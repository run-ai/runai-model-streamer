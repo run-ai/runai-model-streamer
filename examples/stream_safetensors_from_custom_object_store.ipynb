{
 "cells": [
  {
   "cell_type": "markdown",
   "metadata": {},
   "source": [
    "# Stream Model From S3 Compatible Object Store\n",
    "\n",
    "In this notebook we will demonstrate how to read tensors using the RunAI Model Streamer from S3 compatible object store (Google Cloud Storage / MinIO / etc...).\n",
    "\n",
    "## Prerequisites\n",
    "* A Linux machine\n",
    "* An S3 compatible storage\n",
    "  * Endpoint\n",
    "  * Bucket\n",
    "* Credentials to read from the bucket\n",
    "\n",
    "## Preperation\n",
    "Set the following varibales with your credentials, bucket, and the S3 compatible server endpoint:"
   ]
  },
  {
   "cell_type": "code",
   "execution_count": 1,
   "metadata": {},
   "outputs": [],
   "source": [
    "s3_endpoint = 'https://your-s3-compatible-endpoint'\n",
    "s3_bucket = 'your-bucket-name'\n",
    "s3_location = 'desired/path/in/s3'\n",
    "\n",
    "s3_access_key = 'your-access-key'\n",
    "s3_access_secret = 'your-secret-access-key'"
   ]
  },
  {
   "cell_type": "markdown",
   "metadata": {},
   "source": [
    "Now we will set them as environment varibles:"
   ]
  },
  {
   "cell_type": "code",
   "execution_count": null,
   "metadata": {},
   "outputs": [],
   "source": [
    "import os\n",
    "\n",
    "os.environ['AWS_ENDPOINT_URL'] = s3_endpoint\n",
    "os.environ['AWS_ACCESS_KEY_ID'] = s3_access_key\n",
    "os.environ['AWS_SECRET_ACCESS_KEY'] = s3_access_secret\n",
    "\n",
    "# For S3 Compatible storage the following env vars must be set exactly like that\n",
    "os.environ['RUNAI_STREAMER_S3_USE_VIRTUAL_ADDRESSING'] = \"0\"\n",
    "os.environ['AWS_EC2_METADATA_DISABLED'] = \"true\""
   ]
  },
  {
   "cell_type": "markdown",
   "metadata": {},
   "source": [
    "We will start by downloading an example `.safetensors` file. Feel free to use your own."
   ]
  },
  {
   "cell_type": "code",
   "execution_count": 2,
   "metadata": {},
   "outputs": [],
   "source": [
    "import subprocess\n",
    "\n",
    "url = 'https://huggingface.co/vidore/colpali/resolve/main/adapter_model.safetensors?download=true'\n",
    "local_filename = 'model.safetensors'\n",
    "\n",
    "wget_command = ['wget', '--content-disposition', url, '-O', local_filename]\n",
    "subprocess.run(wget_command, check=True, stdout=subprocess.PIPE, stderr=subprocess.PIPE)"
   ]
  },
  {
   "cell_type": "markdown",
   "metadata": {},
   "source": [
    "Next thing we would do is upload the model `.safetensors` file to the S3 bucket:"
   ]
  },
  {
   "cell_type": "code",
   "execution_count": 3,
   "metadata": {},
   "outputs": [],
   "source": [
    "import boto3\n",
    "\n",
    "local_file = 'model.safetensors'\n",
    "s3_upload_location = f\"{s3_location}/{local_file}\"\n",
    "\n",
    "s3_client = boto3.client(\n",
    "    's3',\n",
    "    aws_access_key_id=s3_access_key,\n",
    "    aws_secret_access_key=s3_access_secret,\n",
    "    endpoint_url=s3_endpoint\n",
    ")\n",
    "\n",
    "s3_client.upload_file(local_file, s3_bucket, s3_upload_location)"
   ]
  },
  {
   "cell_type": "markdown",
   "metadata": {},
   "source": [
    "## Streaming\n",
    "\n",
    "To load the tensors from the S3 file we need to create `SafetensorsStreamer` instance, perform the request, and start getting the tensors:"
   ]
  },
  {
   "cell_type": "code",
   "execution_count": null,
   "metadata": {},
   "outputs": [],
   "source": [
    "from runai_model_streamer import SafetensorsStreamer\n",
    "\n",
    "file_path = f\"s3://{s3_bucket}/{s3_upload_location}\"\n",
    "\n",
    "def heavy_workload(tensor):\n",
    "    # Perform heavy computation with the tensor\n",
    "    # The computation is occured during the reading\n",
    "    # of the rest of the tensors from the storage\n",
    "    return\n",
    "\n",
    "with SafetensorsStreamer() as streamer:\n",
    "    streamer.stream_file(file_path)\n",
    "    for name, tensor in streamer.get_tensors():\n",
    "        heavy_workload(tensor)"
   ]
  }
 ],
 "metadata": {
  "kernelspec": {
   "display_name": "Python 3",
   "language": "python",
   "name": "python3"
  },
  "language_info": {
   "codemirror_mode": {
    "name": "ipython",
    "version": 3
   },
   "file_extension": ".py",
   "mimetype": "text/x-python",
   "name": "python",
   "nbconvert_exporter": "python",
   "pygments_lexer": "ipython3",
   "version": "3.8.10"
  }
 },
 "nbformat": 4,
 "nbformat_minor": 2
}
